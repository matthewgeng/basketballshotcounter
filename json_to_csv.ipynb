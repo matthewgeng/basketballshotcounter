{
 "cells": [
  {
   "cell_type": "code",
   "execution_count": 2,
   "metadata": {},
   "outputs": [],
   "source": [
    "import os, json\n",
    "import pandas as pd"
   ]
  },
  {
   "cell_type": "markdown",
   "metadata": {},
   "source": [
    "# Train, Validate Split"
   ]
  },
  {
   "cell_type": "code",
   "execution_count": 105,
   "metadata": {},
   "outputs": [],
   "source": [
    "valid_labels_path = \"train_valid/valid_labels\"\n",
    "for name in os.listdir(valid_labels_path):\n",
    "    train_path = \"train_valid/train_labels\"\n",
    "    os.remove(os.path.join(train_path, name))"
   ]
  },
  {
   "cell_type": "markdown",
   "metadata": {},
   "source": [
    "# Train CSV"
   ]
  },
  {
   "cell_type": "code",
   "execution_count": 106,
   "metadata": {},
   "outputs": [
    {
     "name": "stdout",
     "output_type": "stream",
     "text": [
      "1063\n",
      "['carsa_trim10.jpg.json', 'carsa_trim1001.jpg.json', 'carsa_trim1003.jpg.json', 'carsa_trim1005.jpg.json', 'carsa_trim1007.jpg.json', 'carsa_trim1009.jpg.json', 'carsa_trim1011.jpg.json', 'carsa_trim1013.jpg.json', 'carsa_trim1015.jpg.json', 'carsa_trim1033.jpg.json', 'carsa_trim1035.jpg.json', 'carsa_trim1037.jpg.json', 'carsa_trim1039.jpg.json', 'carsa_trim1041.jpg.json', 'carsa_trim12.jpg.json', 'carsa_trim1327.jpg.json', 'carsa_trim1329.jpg.json', 'carsa_trim1331.jpg.json', 'carsa_trim1333.jpg.json', 'carsa_trim1335.jpg.json', 'carsa_trim1349.jpg.json', 'carsa_trim1351.jpg.json', 'carsa_trim1353.jpg.json', 'carsa_trim1355.jpg.json', 'carsa_trim1357.jpg.json', 'carsa_trim1359.jpg.json', 'carsa_trim1361.jpg.json', 'carsa_trim1363.jpg.json', 'carsa_trim1365.jpg.json', 'carsa_trim1367.jpg.json', 'carsa_trim1369.jpg.json', 'carsa_trim1386.jpg.json', 'carsa_trim1388.jpg.json', 'carsa_trim1390.jpg.json', 'carsa_trim1392.jpg.json', 'carsa_trim150.jpg.json', 'carsa_trim152.jpg.json', 'carsa_trim154.jpg.json', 'carsa_trim156.jpg.json', 'carsa_trim1625.jpg.json', 'carsa_trim1627.jpg.json', 'carsa_trim1629.jpg.json', 'carsa_trim1631.jpg.json', 'carsa_trim1633.jpg.json', 'carsa_trim1647.jpg.json', 'carsa_trim1649.jpg.json', 'carsa_trim1651.jpg.json', 'carsa_trim1653.jpg.json', 'carsa_trim1655.jpg.json', 'carsa_trim1657.jpg.json', 'carsa_trim1659.jpg.json', 'carsa_trim1661.jpg.json', 'carsa_trim1663.jpg.json', 'carsa_trim1665.jpg.json', 'carsa_trim1668.jpg.json', 'carsa_trim1670.jpg.json', 'carsa_trim1672.jpg.json', 'carsa_trim1674.jpg.json', 'carsa_trim171.jpg.json', 'carsa_trim173.jpg.json', 'carsa_trim175.jpg.json', 'carsa_trim177.jpg.json', 'carsa_trim179.jpg.json', 'carsa_trim181.jpg.json', 'carsa_trim183.jpg.json', 'carsa_trim185.jpg.json', 'carsa_trim187.jpg.json', 'carsa_trim189.jpg.json', 'carsa_trim191.jpg.json', 'carsa_trim193.jpg.json', 'carsa_trim195.jpg.json', 'carsa_trim1955.jpg.json', 'carsa_trim1957.jpg.json', 'carsa_trim1959.jpg.json', 'carsa_trim1960.jpg.json', 'carsa_trim1973.jpg.json', 'carsa_trim1975.jpg.json', 'carsa_trim1977.jpg.json', 'carsa_trim1979.jpg.json', 'carsa_trim1981.jpg.json', 'carsa_trim1983.jpg.json', 'carsa_trim1985.jpg.json', 'carsa_trim1987.jpg.json', 'carsa_trim1989.jpg.json', 'carsa_trim1991.jpg.json', 'carsa_trim1993.jpg.json', 'carsa_trim1995.jpg.json', 'carsa_trim1997.jpg.json', 'carsa_trim24.jpg.json', 'carsa_trim2420.jpg.json', 'carsa_trim2422.jpg.json', 'carsa_trim2424.jpg.json', 'carsa_trim2426.jpg.json', 'carsa_trim2440.jpg.json', 'carsa_trim2442.jpg.json', 'carsa_trim2444.jpg.json', 'carsa_trim2446.jpg.json', 'carsa_trim2448.jpg.json', 'carsa_trim2450.jpg.json', 'carsa_trim2452.jpg.json', 'carsa_trim2454.jpg.json', 'carsa_trim2456.jpg.json', 'carsa_trim2458.jpg.json', 'carsa_trim2460.jpg.json', 'carsa_trim2463.jpg.json', 'carsa_trim2465.jpg.json', 'carsa_trim2467.jpg.json', 'carsa_trim2469.jpg.json', 'carsa_trim2471.jpg.json', 'carsa_trim26.jpg.json', 'carsa_trim2728.jpg.json', 'carsa_trim2730.jpg.json', 'carsa_trim2732.jpg.json', 'carsa_trim2734.jpg.json', 'carsa_trim2736.jpg.json', 'carsa_trim2749.jpg.json', 'carsa_trim2751.jpg.json', 'carsa_trim2753.jpg.json', 'carsa_trim2755.jpg.json', 'carsa_trim2757.jpg.json', 'carsa_trim2759.jpg.json', 'carsa_trim2761.jpg.json', 'carsa_trim2763.jpg.json', 'carsa_trim2765.jpg.json', 'carsa_trim2767.jpg.json', 'carsa_trim2771.jpg.json', 'carsa_trim2773.jpg.json', 'carsa_trim2775.jpg.json', 'carsa_trim2777.jpg.json', 'carsa_trim28.jpg.json', 'carsa_trim30.jpg.json', 'carsa_trim3056.jpg.json', 'carsa_trim3058.jpg.json', 'carsa_trim3060.jpg.json', 'carsa_trim3062.jpg.json', 'carsa_trim3094.jpg.json', 'carsa_trim3096.jpg.json', 'carsa_trim3098.jpg.json', 'carsa_trim3127.jpg.json', 'carsa_trim3129.jpg.json', 'carsa_trim3131.jpg.json', 'carsa_trim32.jpg.json', 'carsa_trim34.jpg.json', 'carsa_trim3419.jpg.json', 'carsa_trim3421.jpg.json', 'carsa_trim3423.jpg.json', 'carsa_trim3425.jpg.json', 'carsa_trim345.jpg.json', 'carsa_trim3453.jpg.json', 'carsa_trim3455.jpg.json', 'carsa_trim3457.jpg.json', 'carsa_trim3459.jpg.json', 'carsa_trim3460.jpg.json', 'carsa_trim3462.jpg.json', 'carsa_trim3464.jpg.json', 'carsa_trim347.jpg.json', 'carsa_trim349.jpg.json', 'carsa_trim350.jpg.json', 'carsa_trim352.jpg.json', 'carsa_trim36.jpg.json', 'carsa_trim368.jpg.json', 'carsa_trim3696.jpg.json', 'carsa_trim3698.jpg.json', 'carsa_trim37.jpg.json', 'carsa_trim3700.jpg.json', 'carsa_trim3702.jpg.json', 'carsa_trim3704.jpg.json', 'carsa_trim372.jpg.json', 'carsa_trim3725.jpg.json', 'carsa_trim3727.jpg.json', 'carsa_trim3729.jpg.json', 'carsa_trim3730.jpg.json', 'carsa_trim3732.jpg.json', 'carsa_trim3734.jpg.json', 'carsa_trim3738.jpg.json', 'carsa_trim374.jpg.json', 'carsa_trim3741.jpg.json', 'carsa_trim3743.jpg.json', 'carsa_trim376.jpg.json', 'carsa_trim378.jpg.json', 'carsa_trim380.jpg.json', 'carsa_trim382.jpg.json', 'carsa_trim384.jpg.json', 'carsa_trim386.jpg.json', 'carsa_trim388.jpg.json', 'carsa_trim390.jpg.json', 'carsa_trim392.jpg.json', 'carsa_trim4067.jpg.json', 'carsa_trim4069.jpg.json', 'carsa_trim4071.jpg.json', 'carsa_trim4073.jpg.json', 'carsa_trim4105.jpg.json', 'carsa_trim4107.jpg.json', 'carsa_trim4109.jpg.json', 'carsa_trim4111.jpg.json', 'carsa_trim4113.jpg.json', 'carsa_trim4115.jpg.json', 'carsa_trim6.jpg.json', 'carsa_trim686.jpg.json', 'carsa_trim688.jpg.json', 'carsa_trim690.jpg.json', 'carsa_trim692.jpg.json', 'carsa_trim694.jpg.json', 'carsa_trim704.jpg.json', 'carsa_trim706.jpg.json', 'carsa_trim708.jpg.json', 'carsa_trim710.jpg.json', 'carsa_trim712.jpg.json', 'carsa_trim714.jpg.json', 'carsa_trim716.jpg.json', 'carsa_trim718.jpg.json', 'carsa_trim720.jpg.json', 'carsa_trim722.jpg.json', 'carsa_trim724.jpg.json', 'carsa_trim726.jpg.json', 'carsa_trim728.jpg.json', 'carsa_trim730.jpg.json', 'carsa_trim732.jpg.json', 'carsa_trim734.jpg.json', 'carsa_trim736.jpg.json', 'carsa_trim738.jpg.json', 'carsa_trim8.jpg.json', 'carsa_trim970.jpg.json', 'carsa_trim972.jpg.json', 'carsa_trim974.jpg.json', 'carsa_trim976.jpg.json', 'carsa_trim978.jpg.json', 'carsa_trim991.jpg.json', 'carsa_trim993.jpg.json', 'carsa_trim995.jpg.json', 'carsa_trim997.jpg.json', 'carsa_trim999.jpg.json', 'pac3_10063.jpg.json', 'pac3_10065.jpg.json', 'pac3_10067.jpg.json', 'pac3_10069.jpg.json', 'pac3_10081.jpg.json', 'pac3_10083.jpg.json', 'pac3_10085.jpg.json', 'pac3_10087.jpg.json', 'pac3_10089.jpg.json', 'pac3_10091.jpg.json', 'pac3_10093.jpg.json', 'pac3_10095.jpg.json', 'pac3_10097.jpg.json', 'pac3_10099.jpg.json', 'pac3_10107.jpg.json', 'pac3_10109.jpg.json', 'pac3_10111.jpg.json', 'pac3_10113.jpg.json', 'pac3_10115.jpg.json', 'pac3_10117.jpg.json', 'pac3_10119.jpg.json', 'pac3_10121.jpg.json', 'pac3_10123.jpg.json', 'pac3_1023.jpg.json', 'pac3_1025.jpg.json', 'pac3_1027.jpg.json', 'pac3_1029.jpg.json', 'pac3_1031.jpg.json', 'pac3_1033.jpg.json', 'pac3_1035.jpg.json', 'pac3_1037.jpg.json', 'pac3_1039.jpg.json', 'pac3_1041.jpg.json', 'pac3_1043.jpg.json', 'pac3_1048.jpg.json', 'pac3_1049.jpg.json', 'pac3_1050.jpg.json', 'pac3_1052.jpg.json', 'pac3_1054.jpg.json', 'pac3_1056.jpg.json', 'pac3_1058.jpg.json', 'pac3_1060.jpg.json', 'pac3_1062.jpg.json', 'pac3_1064.jpg.json', 'pac3_1066.jpg.json', 'pac3_1068.jpg.json', 'pac3_1070.jpg.json', 'pac3_1072.jpg.json', 'pac3_11237.jpg.json', 'pac3_11239.jpg.json', 'pac3_11241.jpg.json', 'pac3_11243.jpg.json', 'pac3_11245.jpg.json', 'pac3_1209.jpg.json', 'pac3_1211.jpg.json', 'pac3_1213.jpg.json', 'pac3_1215.jpg.json', 'pac3_1217.jpg.json', 'pac3_1219.jpg.json', 'pac3_1221.jpg.json', 'pac3_1223.jpg.json', 'pac3_1225.jpg.json', 'pac3_1227.jpg.json', 'pac3_1233.jpg.json', 'pac3_1235.jpg.json', 'pac3_1237.jpg.json', 'pac3_1239.jpg.json', 'pac3_1241.jpg.json', 'pac3_1243.jpg.json', 'pac3_1245.jpg.json', 'pac3_1247.jpg.json', 'pac3_1249.jpg.json', 'pac3_1251.jpg.json', 'pac3_1253.jpg.json', 'pac3_1255.jpg.json', 'pac3_1257.jpg.json', 'pac3_1379.jpg.json', 'pac3_1381.jpg.json', 'pac3_1383.jpg.json', 'pac3_1385.jpg.json', 'pac3_1387.jpg.json', 'pac3_1389.jpg.json', 'pac3_1391.jpg.json', 'pac3_1393.jpg.json', 'pac3_1395.jpg.json', 'pac3_1397.jpg.json', 'pac3_1399.jpg.json', 'pac3_1406.jpg.json', 'pac3_1408.jpg.json', 'pac3_1410.jpg.json', 'pac3_1412.jpg.json', 'pac3_1414.jpg.json', 'pac3_1416.jpg.json', 'pac3_1418.jpg.json', 'pac3_1420.jpg.json', 'pac3_1422.jpg.json', 'pac3_1424.jpg.json', 'pac3_1426.jpg.json', 'pac3_1428.jpg.json', 'pac3_1430.jpg.json', 'pac3_1432.jpg.json', 'pac3_1434.jpg.json', 'pac3_1436.jpg.json', 'pac3_1438.jpg.json', 'pac3_1710.jpg.json', 'pac3_1712.jpg.json', 'pac3_1714.jpg.json', 'pac3_1716.jpg.json', 'pac3_1718.jpg.json', 'pac3_1720.jpg.json', 'pac3_1722.jpg.json', 'pac3_1724.jpg.json', 'pac3_1726.jpg.json', 'pac3_1728.jpg.json', 'pac3_1734.jpg.json', 'pac3_1736.jpg.json', 'pac3_1738.jpg.json', 'pac3_1740.jpg.json', 'pac3_1742.jpg.json', 'pac3_1744.jpg.json', 'pac3_1746.jpg.json', 'pac3_1748.jpg.json', 'pac3_1750.jpg.json', 'pac3_1752.jpg.json', 'pac3_1754.jpg.json', 'pac3_1756.jpg.json', 'pac3_1758.jpg.json', 'pac3_1760.jpg.json', 'pac3_1762.jpg.json', 'pac3_1764.jpg.json', 'pac3_1990.jpg.json', 'pac3_1992.jpg.json', 'pac3_1994.jpg.json', 'pac3_1996.jpg.json', 'pac3_1998.jpg.json', 'pac3_2000.jpg.json', 'pac3_2002.jpg.json', 'pac3_2004.jpg.json', 'pac3_2006.jpg.json', 'pac3_2008.jpg.json', 'pac3_2014.jpg.json', 'pac3_2016.jpg.json', 'pac3_2018.jpg.json', 'pac3_2020.jpg.json', 'pac3_2022.jpg.json', 'pac3_2024.jpg.json', 'pac3_2026.jpg.json', 'pac3_2028.jpg.json', 'pac3_2030.jpg.json', 'pac3_2032.jpg.json', 'pac3_2034.jpg.json', 'pac3_2036.jpg.json', 'pac3_2038.jpg.json', 'pac3_2040.jpg.json', 'pac3_2214.jpg.json', 'pac3_2216.jpg.json', 'pac3_2218.jpg.json', 'pac3_2220.jpg.json', 'pac3_2222.jpg.json', 'pac3_2224.jpg.json', 'pac3_2226.jpg.json', 'pac3_2228.jpg.json', 'pac3_2234.jpg.json', 'pac3_2236.jpg.json', 'pac3_2238.jpg.json', 'pac3_2240.jpg.json', 'pac3_2242.jpg.json', 'pac3_2244.jpg.json', 'pac3_2246.jpg.json', 'pac3_2248.jpg.json', 'pac3_2250.jpg.json', 'pac3_2252.jpg.json', 'pac3_2254.jpg.json', 'pac3_2256.jpg.json', 'pac3_2258.jpg.json', 'pac3_2260.jpg.json', 'pac3_2398.jpg.json', 'pac3_2400.jpg.json', 'pac3_2402.jpg.json', 'pac3_2404.jpg.json', 'pac3_2406.jpg.json', 'pac3_2408.jpg.json', 'pac3_2410.jpg.json', 'pac3_2412.jpg.json', 'pac3_2414.jpg.json', 'pac3_2416.jpg.json', 'pac3_2423.jpg.json', 'pac3_2425.jpg.json', 'pac3_2427.jpg.json', 'pac3_2429.jpg.json', 'pac3_2431.jpg.json', 'pac3_2433.jpg.json', 'pac3_2435.jpg.json', 'pac3_2437.jpg.json', 'pac3_2439.jpg.json', 'pac3_2441.jpg.json', 'pac3_2443.jpg.json', 'pac3_2445.jpg.json', 'pac3_2447.jpg.json', 'pac3_2449.jpg.json', 'pac3_2451.jpg.json', 'pac3_2614.jpg.json', 'pac3_2616.jpg.json', 'pac3_2618.jpg.json', 'pac3_2620.jpg.json', 'pac3_2622.jpg.json', 'pac3_2624.jpg.json', 'pac3_2626.jpg.json', 'pac3_2628.jpg.json', 'pac3_2630.jpg.json', 'pac3_2639.jpg.json', 'pac3_2641.jpg.json', 'pac3_2643.jpg.json', 'pac3_2645.jpg.json', 'pac3_2647.jpg.json', 'pac3_2649.jpg.json', 'pac3_2651.jpg.json', 'pac3_2653.jpg.json', 'pac3_2655.jpg.json', 'pac3_2657.jpg.json', 'pac3_2659.jpg.json', 'pac3_2675.jpg.json', 'pac3_2677.jpg.json', 'pac3_2679.jpg.json', 'pac3_286.jpg.json', 'pac3_288.jpg.json', 'pac3_290.jpg.json', 'pac3_292.jpg.json', 'pac3_294.jpg.json', 'pac3_2947.jpg.json', 'pac3_2949.jpg.json', 'pac3_2950.jpg.json', 'pac3_2952.jpg.json', 'pac3_2954.jpg.json', 'pac3_2956.jpg.json', 'pac3_2958.jpg.json', 'pac3_296.jpg.json', 'pac3_2961.jpg.json', 'pac3_2963.jpg.json', 'pac3_297.jpg.json', 'pac3_2972.jpg.json', 'pac3_2974.jpg.json', 'pac3_2976.jpg.json', 'pac3_2978.jpg.json', 'pac3_298.jpg.json', 'pac3_2981.jpg.json', 'pac3_2983.jpg.json', 'pac3_2985.jpg.json', 'pac3_2987.jpg.json', 'pac3_2989.jpg.json', 'pac3_2990.jpg.json', 'pac3_2992.jpg.json', 'pac3_2994.jpg.json', 'pac3_2996.jpg.json', 'pac3_2998.jpg.json', 'pac3_300.jpg.json', 'pac3_3001.jpg.json', 'pac3_3003.jpg.json', 'pac3_301.jpg.json', 'pac3_303.jpg.json', 'pac3_309.jpg.json', 'pac3_311.jpg.json', 'pac3_313.jpg.json', 'pac3_315.jpg.json', 'pac3_317.jpg.json', 'pac3_3188.jpg.json', 'pac3_319.jpg.json', 'pac3_3191.jpg.json', 'pac3_3193.jpg.json', 'pac3_3195.jpg.json', 'pac3_3197.jpg.json', 'pac3_3199.jpg.json', 'pac3_3200.jpg.json', 'pac3_3202.jpg.json', 'pac3_3204.jpg.json', 'pac3_3206.jpg.json', 'pac3_3212.jpg.json', 'pac3_3214.jpg.json', 'pac3_3216.jpg.json', 'pac3_3218.jpg.json', 'pac3_322.jpg.json', 'pac3_3221.jpg.json', 'pac3_3223.jpg.json', 'pac3_3225.jpg.json', 'pac3_3227.jpg.json', 'pac3_3229.jpg.json', 'pac3_3230.jpg.json', 'pac3_3232.jpg.json', 'pac3_3234.jpg.json', 'pac3_3236.jpg.json', 'pac3_3238.jpg.json', 'pac3_324.jpg.json', 'pac3_326.jpg.json', 'pac3_328.jpg.json', 'pac3_330.jpg.json', 'pac3_3412.jpg.json', 'pac3_3414.jpg.json', 'pac3_3416.jpg.json', 'pac3_3418.jpg.json', 'pac3_3420.jpg.json', 'pac3_3422.jpg.json', 'pac3_3424.jpg.json', 'pac3_3426.jpg.json', 'pac3_3428.jpg.json', 'pac3_3436.jpg.json', 'pac3_3438.jpg.json', 'pac3_3440.jpg.json', 'pac3_3442.jpg.json', 'pac3_3444.jpg.json', 'pac3_3446.jpg.json', 'pac3_3448.jpg.json', 'pac3_3450.jpg.json', 'pac3_3452.jpg.json', 'pac3_3454.jpg.json', 'pac3_3456.jpg.json', 'pac3_3458.jpg.json', 'pac3_3460.jpg.json', 'pac3_3462.jpg.json', 'pac3_3464.jpg.json', 'pac3_3466.jpg.json', 'pac3_35.jpg.json', 'pac3_3682.jpg.json', 'pac3_3684.jpg.json', 'pac3_3686.jpg.json', 'pac3_3688.jpg.json', 'pac3_3690.jpg.json', 'pac3_3692.jpg.json', 'pac3_3694.jpg.json', 'pac3_3696.jpg.json', 'pac3_3698.jpg.json', 'pac3_3704.jpg.json', 'pac3_3706.jpg.json', 'pac3_3708.jpg.json', 'pac3_3710.jpg.json', 'pac3_3712.jpg.json', 'pac3_3714.jpg.json', 'pac3_3716.jpg.json', 'pac3_3718.jpg.json', 'pac3_3720.jpg.json', 'pac3_3722.jpg.json', 'pac3_3724.jpg.json', 'pac3_3726.jpg.json', 'pac3_3728.jpg.json', 'pac3_3730.jpg.json', 'pac3_3732.jpg.json', 'pac3_3734.jpg.json', 'pac3_3736.jpg.json', 'pac3_3738.jpg.json', 'pac3_3740.jpg.json', 'pac3_3742.jpg.json', 'pac3_3744.jpg.json', 'pac3_38.jpg.json', 'pac3_393.jpg.json', 'pac3_395.jpg.json', 'pac3_3966.jpg.json', 'pac3_3968.jpg.json', 'pac3_397.jpg.json', 'pac3_3971.jpg.json', 'pac3_3973.jpg.json', 'pac3_3975.jpg.json', 'pac3_3977.jpg.json', 'pac3_3979.jpg.json', 'pac3_3980.jpg.json', 'pac3_3982.jpg.json', 'pac3_3989.jpg.json', 'pac3_3990.jpg.json', 'pac3_3992.jpg.json', 'pac3_3994.jpg.json', 'pac3_3996.jpg.json', 'pac3_3998.jpg.json', 'pac3_40.jpg.json', 'pac3_4000.jpg.json', 'pac3_4002.jpg.json', 'pac3_4004.jpg.json', 'pac3_4006.jpg.json', 'pac3_4008.jpg.json', 'pac3_401.jpg.json', 'pac3_4011.jpg.json', 'pac3_4013.jpg.json', 'pac3_4015.jpg.json', 'pac3_4017.jpg.json', 'pac3_4019.jpg.json', 'pac3_4020.jpg.json', 'pac3_404.jpg.json', 'pac3_406.jpg.json', 'pac3_408.jpg.json', 'pac3_41.jpg.json', 'pac3_411.jpg.json', 'pac3_417.jpg.json', 'pac3_419.jpg.json', 'pac3_420.jpg.json', 'pac3_422.jpg.json', 'pac3_424.jpg.json', 'pac3_426.jpg.json', 'pac3_4266.jpg.json', 'pac3_4268.jpg.json', 'pac3_427.jpg.json', 'pac3_4271.jpg.json', 'pac3_4273.jpg.json', 'pac3_4275.jpg.json', 'pac3_4277.jpg.json', 'pac3_4279.jpg.json', 'pac3_4280.jpg.json', 'pac3_4288.jpg.json', 'pac3_429.jpg.json', 'pac3_4291.jpg.json', 'pac3_4293.jpg.json', 'pac3_4295.jpg.json', 'pac3_4297.jpg.json', 'pac3_4299.jpg.json', 'pac3_430.jpg.json', 'pac3_4301.jpg.json', 'pac3_4303.jpg.json', 'pac3_4305.jpg.json', 'pac3_4307.jpg.json', 'pac3_4309.jpg.json', 'pac3_4310.jpg.json', 'pac3_4312.jpg.json', 'pac3_4314.jpg.json', 'pac3_433.jpg.json', 'pac3_435.jpg.json', 'pac3_437.jpg.json', 'pac3_439.jpg.json', 'pac3_440.jpg.json', 'pac3_442.jpg.json', 'pac3_4443.jpg.json', 'pac3_4445.jpg.json', 'pac3_4447.jpg.json', 'pac3_4449.jpg.json', 'pac3_4451.jpg.json', 'pac3_4453.jpg.json', 'pac3_4455.jpg.json', 'pac3_4457.jpg.json', 'pac3_4466.jpg.json', 'pac3_4468.jpg.json', 'pac3_4470.jpg.json', 'pac3_4472.jpg.json', 'pac3_4474.jpg.json', 'pac3_4476.jpg.json', 'pac3_4478.jpg.json', 'pac3_4480.jpg.json', 'pac3_4482.jpg.json', 'pac3_4484.jpg.json', 'pac3_4486.jpg.json', 'pac3_4488.jpg.json', 'pac3_4490.jpg.json', 'pac3_4492.jpg.json', 'pac3_4494.jpg.json', 'pac3_46.jpg.json', 'pac3_4692.jpg.json', 'pac3_4694.jpg.json', 'pac3_4696.jpg.json', 'pac3_4698.jpg.json', 'pac3_47.jpg.json', 'pac3_4701.jpg.json', 'pac3_4703.jpg.json', 'pac3_4705.jpg.json', 'pac3_4707.jpg.json', 'pac3_4715.jpg.json', 'pac3_4717.jpg.json', 'pac3_4719.jpg.json', 'pac3_4721.jpg.json', 'pac3_4723.jpg.json', 'pac3_4725.jpg.json', 'pac3_4727.jpg.json', 'pac3_4729.jpg.json', 'pac3_4731.jpg.json', 'pac3_4733.jpg.json', 'pac3_4735.jpg.json', 'pac3_4737.jpg.json', 'pac3_4739.jpg.json', 'pac3_4741.jpg.json', 'pac3_4743.jpg.json', 'pac3_4745.jpg.json', 'pac3_4747.jpg.json', 'pac3_49.jpg.json', 'pac3_4966.jpg.json', 'pac3_4968.jpg.json', 'pac3_4970.jpg.json', 'pac3_4972.jpg.json', 'pac3_4974.jpg.json', 'pac3_4976.jpg.json', 'pac3_4978.jpg.json', 'pac3_4989.jpg.json', 'pac3_4991.jpg.json', 'pac3_4993.jpg.json', 'pac3_4995.jpg.json', 'pac3_4997.jpg.json', 'pac3_4999.jpg.json', 'pac3_5000.jpg.json', 'pac3_5002.jpg.json', 'pac3_5004.jpg.json', 'pac3_5006.jpg.json', 'pac3_5008.jpg.json', 'pac3_5010.jpg.json', 'pac3_5028.jpg.json', 'pac3_5030.jpg.json', 'pac3_5032.jpg.json', 'pac3_5034.jpg.json', 'pac3_5036.jpg.json', 'pac3_5038.jpg.json', 'pac3_51.jpg.json', 'pac3_53.jpg.json', 'pac3_55.jpg.json', 'pac3_591.jpg.json', 'pac3_593.jpg.json', 'pac3_595.jpg.json', 'pac3_597.jpg.json', 'pac3_599.jpg.json', 'pac3_600.jpg.json', 'pac3_602.jpg.json', 'pac3_604.jpg.json', 'pac3_606.jpg.json', 'pac3_608.jpg.json', 'pac3_612.jpg.json', 'pac3_614.jpg.json', 'pac3_616.jpg.json', 'pac3_618.jpg.json', 'pac3_62.jpg.json', 'pac3_621.jpg.json', 'pac3_6222.jpg.json', 'pac3_6224.jpg.json', 'pac3_6226.jpg.json', 'pac3_6228.jpg.json', 'pac3_623.jpg.json', 'pac3_6231.jpg.json', 'pac3_6233.jpg.json', 'pac3_624.jpg.json', 'pac3_6244.jpg.json', 'pac3_6246.jpg.json', 'pac3_6248.jpg.json', 'pac3_625.jpg.json', 'pac3_6251.jpg.json', 'pac3_6253.jpg.json', 'pac3_6255.jpg.json', 'pac3_6257.jpg.json', 'pac3_6259.jpg.json', 'pac3_6260.jpg.json', 'pac3_6262.jpg.json', 'pac3_6264.jpg.json', 'pac3_6266.jpg.json', 'pac3_6268.jpg.json', 'pac3_627.jpg.json', 'pac3_6271.jpg.json', 'pac3_6273.jpg.json', 'pac3_6275.jpg.json', 'pac3_6277.jpg.json', 'pac3_629.jpg.json', 'pac3_630.jpg.json', 'pac3_632.jpg.json', 'pac3_634.jpg.json', 'pac3_636.jpg.json', 'pac3_638.jpg.json', 'pac3_64.jpg.json', 'pac3_641.jpg.json', 'pac3_643.jpg.json', 'pac3_645.jpg.json', 'pac3_6584.jpg.json', 'pac3_6586.jpg.json', 'pac3_6588.jpg.json', 'pac3_6590.jpg.json', 'pac3_6592.jpg.json', 'pac3_66.jpg.json', 'pac3_6603.jpg.json', 'pac3_6605.jpg.json', 'pac3_6607.jpg.json', 'pac3_6609.jpg.json', 'pac3_6611.jpg.json', 'pac3_6613.jpg.json', 'pac3_6615.jpg.json', 'pac3_6617.jpg.json', 'pac3_6619.jpg.json', 'pac3_6621.jpg.json', 'pac3_6623.jpg.json', 'pac3_6625.jpg.json', 'pac3_6627.jpg.json', 'pac3_6629.jpg.json', 'pac3_6631.jpg.json', 'pac3_68.jpg.json', 'pac3_6851.jpg.json', 'pac3_6853.jpg.json', 'pac3_6855.jpg.json', 'pac3_6857.jpg.json', 'pac3_6859.jpg.json', 'pac3_6861.jpg.json', 'pac3_6870.jpg.json', 'pac3_6872.jpg.json', 'pac3_6874.jpg.json', 'pac3_6876.jpg.json', 'pac3_6878.jpg.json', 'pac3_6880.jpg.json', 'pac3_6882.jpg.json', 'pac3_6884.jpg.json', 'pac3_6886.jpg.json', 'pac3_6888.jpg.json', 'pac3_6890.jpg.json', 'pac3_6892.jpg.json', 'pac3_6894.jpg.json', 'pac3_6896.jpg.json', 'pac3_6898.jpg.json', 'pac3_69.jpg.json', 'pac3_6901.jpg.json', 'pac3_6903.jpg.json', 'pac3_7240.jpg.json', 'pac3_7242.jpg.json', 'pac3_7244.jpg.json', 'pac3_7246.jpg.json', 'pac3_7248.jpg.json', 'pac3_7250.jpg.json', 'pac3_7260.jpg.json', 'pac3_7262.jpg.json', 'pac3_7264.jpg.json', 'pac3_7266.jpg.json', 'pac3_7268.jpg.json', 'pac3_7270.jpg.json', 'pac3_7272.jpg.json', 'pac3_7274.jpg.json', 'pac3_7276.jpg.json', 'pac3_7278.jpg.json', 'pac3_7280.jpg.json', 'pac3_7282.jpg.json', 'pac3_7284.jpg.json', 'pac3_7286.jpg.json', 'pac3_7288.jpg.json', 'pac3_7290.jpg.json', 'pac3_7503.jpg.json', 'pac3_7505.jpg.json', 'pac3_7507.jpg.json', 'pac3_7509.jpg.json', 'pac3_7511.jpg.json', 'pac3_7523.jpg.json', 'pac3_7525.jpg.json', 'pac3_7527.jpg.json', 'pac3_7529.jpg.json', 'pac3_7531.jpg.json', 'pac3_7533.jpg.json', 'pac3_7535.jpg.json', 'pac3_7537.jpg.json', 'pac3_7539.jpg.json', 'pac3_7541.jpg.json', 'pac3_7543.jpg.json', 'pac3_7545.jpg.json', 'pac3_7547.jpg.json', 'pac3_7549.jpg.json', 'pac3_7551.jpg.json', 'pac3_7553.jpg.json', 'pac3_7555.jpg.json', 'pac3_7557.jpg.json', 'pac3_7559.jpg.json', 'pac3_7561.jpg.json', 'pac3_7563.jpg.json', 'pac3_781.jpg.json', 'pac3_783.jpg.json', 'pac3_785.jpg.json', 'pac3_787.jpg.json', 'pac3_789.jpg.json', 'pac3_791.jpg.json', 'pac3_7922.jpg.json', 'pac3_7924.jpg.json', 'pac3_7926.jpg.json', 'pac3_7928.jpg.json', 'pac3_793.jpg.json', 'pac3_7940.jpg.json', 'pac3_7942.jpg.json', 'pac3_7944.jpg.json', 'pac3_7946.jpg.json', 'pac3_7948.jpg.json', 'pac3_795.jpg.json', 'pac3_7951.jpg.json', 'pac3_7953.jpg.json', 'pac3_7955.jpg.json', 'pac3_7957.jpg.json', 'pac3_7959.jpg.json', 'pac3_7960.jpg.json', 'pac3_7962.jpg.json', 'pac3_7964.jpg.json', 'pac3_7966.jpg.json', 'pac3_7968.jpg.json', 'pac3_797.jpg.json', 'pac3_7971.jpg.json', 'pac3_7973.jpg.json', 'pac3_7975.jpg.json', 'pac3_7977.jpg.json', 'pac3_7979.jpg.json', 'pac3_7980.jpg.json', 'pac3_800.jpg.json', 'pac3_806.jpg.json', 'pac3_808.jpg.json', 'pac3_810.jpg.json', 'pac3_812.jpg.json', 'pac3_814.jpg.json', 'pac3_816.jpg.json', 'pac3_818.jpg.json', 'pac3_820.jpg.json', 'pac3_8210.jpg.json', 'pac3_8212.jpg.json', 'pac3_8214.jpg.json', 'pac3_8216.jpg.json', 'pac3_8218.jpg.json', 'pac3_822.jpg.json', 'pac3_8221.jpg.json', 'pac3_8223.jpg.json', 'pac3_8225.jpg.json', 'pac3_8227.jpg.json', 'pac3_8229.jpg.json', 'pac3_8230.jpg.json', 'pac3_8232.jpg.json', 'pac3_8234.jpg.json', 'pac3_8236.jpg.json', 'pac3_8238.jpg.json', 'pac3_824.jpg.json', 'pac3_8241.jpg.json', 'pac3_8243.jpg.json', 'pac3_8245.jpg.json', 'pac3_8247.jpg.json', 'pac3_8249.jpg.json', 'pac3_8250.jpg.json', 'pac3_8252.jpg.json', 'pac3_8254.jpg.json', 'pac3_8256.jpg.json', 'pac3_8258.jpg.json', 'pac3_826.jpg.json', 'pac3_8261.jpg.json', 'pac3_8263.jpg.json', 'pac3_8265.jpg.json', 'pac3_828.jpg.json', 'pac3_830.jpg.json', 'pac3_839.jpg.json', 'pac3_841.jpg.json', 'pac3_843.jpg.json', 'pac3_845.jpg.json', 'pac3_847.jpg.json', 'pac3_8703.jpg.json', 'pac3_8705.jpg.json', 'pac3_8707.jpg.json', 'pac3_8709.jpg.json', 'pac3_8721.jpg.json', 'pac3_8723.jpg.json', 'pac3_8725.jpg.json', 'pac3_8727.jpg.json', 'pac3_8729.jpg.json', 'pac3_8731.jpg.json', 'pac3_8733.jpg.json', 'pac3_8735.jpg.json', 'pac3_8737.jpg.json', 'pac3_8739.jpg.json', 'pac3_8741.jpg.json', 'pac3_8743.jpg.json', 'pac3_8745.jpg.json', 'pac3_8747.jpg.json', 'pac3_8749.jpg.json', 'pac3_8751.jpg.json', 'pac3_8753.jpg.json', 'pac3_8755.jpg.json', 'pac3_8757.jpg.json', 'pac3_8759.jpg.json', 'pac3_8761.jpg.json', 'pac3_8763.jpg.json', 'pac3_8765.jpg.json', 'pac3_8767.jpg.json', 'pac3_89.jpg.json', 'pac3_8954.jpg.json', 'pac3_8956.jpg.json', 'pac3_8958.jpg.json', 'pac3_8960.jpg.json', 'pac3_8973.jpg.json', 'pac3_8975.jpg.json', 'pac3_8977.jpg.json', 'pac3_8979.jpg.json', 'pac3_8981.jpg.json', 'pac3_8983.jpg.json', 'pac3_8985.jpg.json', 'pac3_8987.jpg.json', 'pac3_8989.jpg.json', 'pac3_8997.jpg.json', 'pac3_8999.jpg.json', 'pac3_9000.jpg.json', 'pac3_9002.jpg.json', 'pac3_9004.jpg.json', 'pac3_9006.jpg.json', 'pac3_91.jpg.json', 'pac3_9289.jpg.json', 'pac3_9291.jpg.json', 'pac3_9293.jpg.json', 'pac3_9295.jpg.json', 'pac3_9297.jpg.json', 'pac3_9309.jpg.json', 'pac3_9311.jpg.json', 'pac3_9313.jpg.json', 'pac3_9315.jpg.json', 'pac3_9317.jpg.json', 'pac3_9319.jpg.json', 'pac3_9321.jpg.json', 'pac3_9323.jpg.json', 'pac3_9325.jpg.json', 'pac3_9327.jpg.json', 'pac3_9329.jpg.json', 'pac3_9331.jpg.json', 'pac3_9333.jpg.json', 'pac3_9335.jpg.json', 'pac3_9347.jpg.json', 'pac3_9349.jpg.json', 'pac3_9351.jpg.json', 'pac3_9353.jpg.json', 'pac3_9355.jpg.json', 'pac3_9357.jpg.json', 'pac3_95.jpg.json', 'pac3_9637.jpg.json', 'pac3_9639.jpg.json', 'pac3_9641.jpg.json', 'pac3_9643.jpg.json', 'pac3_9656.jpg.json', 'pac3_9658.jpg.json', 'pac3_9660.jpg.json', 'pac3_9662.jpg.json', 'pac3_9664.jpg.json', 'pac3_9666.jpg.json', 'pac3_9668.jpg.json', 'pac3_9670.jpg.json', 'pac3_9672.jpg.json', 'pac3_9674.jpg.json', 'pac3_9676.jpg.json', 'pac3_9678.jpg.json', 'pac3_9680.jpg.json', 'pac3_9682.jpg.json', 'pac3_9684.jpg.json', 'pac3_9686.jpg.json', 'pac3_9709.jpg.json', 'pac3_9711.jpg.json', 'pac3_9713.jpg.json', 'pac3_9715.jpg.json']\n"
     ]
    }
   ],
   "source": [
    "train_path = \"train_valid/train_labels\"\n",
    "train_list = os.listdir(train_path)\n",
    "print(len(train_list))\n",
    "print(train_list)"
   ]
  },
  {
   "cell_type": "code",
   "execution_count": 107,
   "metadata": {
    "scrolled": true
   },
   "outputs": [
    {
     "name": "stdout",
     "output_type": "stream",
     "text": [
      "1063\n",
      "1063\n",
      "1063\n",
      "1063\n",
      "1063\n",
      "1063\n",
      "1063\n",
      "1063\n"
     ]
    }
   ],
   "source": [
    "file_name_list = []\n",
    "width_list = []\n",
    "height_list = []\n",
    "class_list = []\n",
    "xmin_list = []\n",
    "ymin_list = []\n",
    "xmax_list = []\n",
    "ymax_list = []\n",
    "\n",
    "for name in train_list:\n",
    "#     print(key)\n",
    "    file_path = os.path.join(train_path, name)\n",
    "    file = open(file_path, 'r')\n",
    "    file_data = json.load(file)\n",
    "#     print(file_data)\n",
    "    img_name = os.path.splitext(name)[0]\n",
    "#     print(img_name)\n",
    "    file_name_list.append(img_name)\n",
    "    for key in file_data.values():\n",
    "        if isinstance(key, dict):\n",
    "#             print(key)\n",
    "            width_list.append(key['width'])\n",
    "            height_list.append(key['height'])\n",
    "#         key_path = os.path.join(dir_path, key)\n",
    "        elif len(key) != 0:\n",
    "            if len(key) > 1:\n",
    "                print(\"Greater than 1 {}\".format(name))\n",
    "                print(key)\n",
    "            dict_obj = key[0]\n",
    "            class_name = dict_obj['classTitle']\n",
    "            class_list.append(class_name)\n",
    "            \n",
    "            box_dict = dict_obj['points']\n",
    "            box_list = box_dict['exterior']\n",
    "#             print(box_list)\n",
    "#             if box_list == []:\n",
    "# #                 print(key)\n",
    "#                 print(\"name: {}\".format(name))\n",
    "            x1, y1 = box_list[0]\n",
    "            x2, y2 = box_list[1]\n",
    "            xmin_list.append(x1)\n",
    "            ymin_list.append(y1)\n",
    "            xmax_list.append(x2)\n",
    "            ymax_list.append(y2)\n",
    "\n",
    "print(len(file_name_list))\n",
    "print(len(width_list))\n",
    "print(len(height_list))\n",
    "print(len(class_list))\n",
    "print(len(xmin_list))\n",
    "print(len(ymin_list))\n",
    "print(len(xmax_list))\n",
    "print(len(ymax_list))"
   ]
  },
  {
   "cell_type": "code",
   "execution_count": 108,
   "metadata": {},
   "outputs": [],
   "source": [
    "data_labels = {'filename': file_name_list, 'width': width_list, 'height': height_list, \n",
    "        'class': class_list, 'xmin': xmin_list, 'ymin': ymin_list, 'xmax':xmax_list, 'ymax':ymax_list}"
   ]
  },
  {
   "cell_type": "code",
   "execution_count": 109,
   "metadata": {},
   "outputs": [
    {
     "data": {
      "text/html": [
       "<div>\n",
       "<style scoped>\n",
       "    .dataframe tbody tr th:only-of-type {\n",
       "        vertical-align: middle;\n",
       "    }\n",
       "\n",
       "    .dataframe tbody tr th {\n",
       "        vertical-align: top;\n",
       "    }\n",
       "\n",
       "    .dataframe thead th {\n",
       "        text-align: right;\n",
       "    }\n",
       "</style>\n",
       "<table border=\"1\" class=\"dataframe\">\n",
       "  <thead>\n",
       "    <tr style=\"text-align: right;\">\n",
       "      <th></th>\n",
       "      <th>filename</th>\n",
       "      <th>width</th>\n",
       "      <th>height</th>\n",
       "      <th>class</th>\n",
       "      <th>xmin</th>\n",
       "      <th>ymin</th>\n",
       "      <th>xmax</th>\n",
       "      <th>ymax</th>\n",
       "    </tr>\n",
       "  </thead>\n",
       "  <tbody>\n",
       "    <tr>\n",
       "      <th>0</th>\n",
       "      <td>carsa_trim10.jpg</td>\n",
       "      <td>1920</td>\n",
       "      <td>1080</td>\n",
       "      <td>shot</td>\n",
       "      <td>942</td>\n",
       "      <td>499</td>\n",
       "      <td>1008</td>\n",
       "      <td>752</td>\n",
       "    </tr>\n",
       "    <tr>\n",
       "      <th>1</th>\n",
       "      <td>carsa_trim1001.jpg</td>\n",
       "      <td>1920</td>\n",
       "      <td>1080</td>\n",
       "      <td>mid_shot</td>\n",
       "      <td>910</td>\n",
       "      <td>33</td>\n",
       "      <td>1025</td>\n",
       "      <td>165</td>\n",
       "    </tr>\n",
       "    <tr>\n",
       "      <th>2</th>\n",
       "      <td>carsa_trim1003.jpg</td>\n",
       "      <td>1920</td>\n",
       "      <td>1080</td>\n",
       "      <td>mid_shot</td>\n",
       "      <td>909</td>\n",
       "      <td>34</td>\n",
       "      <td>1026</td>\n",
       "      <td>166</td>\n",
       "    </tr>\n",
       "    <tr>\n",
       "      <th>3</th>\n",
       "      <td>carsa_trim1005.jpg</td>\n",
       "      <td>1920</td>\n",
       "      <td>1080</td>\n",
       "      <td>mid_shot</td>\n",
       "      <td>909</td>\n",
       "      <td>32</td>\n",
       "      <td>1026</td>\n",
       "      <td>167</td>\n",
       "    </tr>\n",
       "    <tr>\n",
       "      <th>4</th>\n",
       "      <td>carsa_trim1007.jpg</td>\n",
       "      <td>1920</td>\n",
       "      <td>1080</td>\n",
       "      <td>mid_shot</td>\n",
       "      <td>908</td>\n",
       "      <td>33</td>\n",
       "      <td>1025</td>\n",
       "      <td>169</td>\n",
       "    </tr>\n",
       "    <tr>\n",
       "      <th>...</th>\n",
       "      <td>...</td>\n",
       "      <td>...</td>\n",
       "      <td>...</td>\n",
       "      <td>...</td>\n",
       "      <td>...</td>\n",
       "      <td>...</td>\n",
       "      <td>...</td>\n",
       "      <td>...</td>\n",
       "    </tr>\n",
       "    <tr>\n",
       "      <th>1058</th>\n",
       "      <td>pac3_9686.jpg</td>\n",
       "      <td>1920</td>\n",
       "      <td>1080</td>\n",
       "      <td>mid_shot</td>\n",
       "      <td>923</td>\n",
       "      <td>214</td>\n",
       "      <td>1036</td>\n",
       "      <td>329</td>\n",
       "    </tr>\n",
       "    <tr>\n",
       "      <th>1059</th>\n",
       "      <td>pac3_9709.jpg</td>\n",
       "      <td>1920</td>\n",
       "      <td>1080</td>\n",
       "      <td>miss</td>\n",
       "      <td>862</td>\n",
       "      <td>214</td>\n",
       "      <td>1042</td>\n",
       "      <td>331</td>\n",
       "    </tr>\n",
       "    <tr>\n",
       "      <th>1060</th>\n",
       "      <td>pac3_9711.jpg</td>\n",
       "      <td>1920</td>\n",
       "      <td>1080</td>\n",
       "      <td>miss</td>\n",
       "      <td>851</td>\n",
       "      <td>213</td>\n",
       "      <td>1036</td>\n",
       "      <td>329</td>\n",
       "    </tr>\n",
       "    <tr>\n",
       "      <th>1061</th>\n",
       "      <td>pac3_9713.jpg</td>\n",
       "      <td>1920</td>\n",
       "      <td>1080</td>\n",
       "      <td>miss</td>\n",
       "      <td>844</td>\n",
       "      <td>216</td>\n",
       "      <td>1042</td>\n",
       "      <td>348</td>\n",
       "    </tr>\n",
       "    <tr>\n",
       "      <th>1062</th>\n",
       "      <td>pac3_9715.jpg</td>\n",
       "      <td>1920</td>\n",
       "      <td>1080</td>\n",
       "      <td>miss</td>\n",
       "      <td>831</td>\n",
       "      <td>211</td>\n",
       "      <td>1033</td>\n",
       "      <td>412</td>\n",
       "    </tr>\n",
       "  </tbody>\n",
       "</table>\n",
       "<p>1063 rows × 8 columns</p>\n",
       "</div>"
      ],
      "text/plain": [
       "                filename  width  height     class  xmin  ymin  xmax  ymax\n",
       "0       carsa_trim10.jpg   1920    1080      shot   942   499  1008   752\n",
       "1     carsa_trim1001.jpg   1920    1080  mid_shot   910    33  1025   165\n",
       "2     carsa_trim1003.jpg   1920    1080  mid_shot   909    34  1026   166\n",
       "3     carsa_trim1005.jpg   1920    1080  mid_shot   909    32  1026   167\n",
       "4     carsa_trim1007.jpg   1920    1080  mid_shot   908    33  1025   169\n",
       "...                  ...    ...     ...       ...   ...   ...   ...   ...\n",
       "1058       pac3_9686.jpg   1920    1080  mid_shot   923   214  1036   329\n",
       "1059       pac3_9709.jpg   1920    1080      miss   862   214  1042   331\n",
       "1060       pac3_9711.jpg   1920    1080      miss   851   213  1036   329\n",
       "1061       pac3_9713.jpg   1920    1080      miss   844   216  1042   348\n",
       "1062       pac3_9715.jpg   1920    1080      miss   831   211  1033   412\n",
       "\n",
       "[1063 rows x 8 columns]"
      ]
     },
     "execution_count": 109,
     "metadata": {},
     "output_type": "execute_result"
    }
   ],
   "source": [
    "labels_df = pd.DataFrame(data = data_labels)\n",
    "labels_df"
   ]
  },
  {
   "cell_type": "code",
   "execution_count": 110,
   "metadata": {},
   "outputs": [
    {
     "data": {
      "text/plain": [
       "False"
      ]
     },
     "execution_count": 110,
     "metadata": {},
     "output_type": "execute_result"
    }
   ],
   "source": [
    "labels_df.isnull().values.any()"
   ]
  },
  {
   "cell_type": "code",
   "execution_count": 62,
   "metadata": {},
   "outputs": [
    {
     "name": "stdout",
     "output_type": "stream",
     "text": [
      "augment.ipynb\t\t\t\t  pac2_folder_small_half\r\n",
      "carsa.mp4\t\t\t\t  pac2_labels\r\n",
      "carsa_trim.mp4\t\t\t\t  pac3.mp4\r\n",
      "carsa_trim_folder\t\t\t  pac3_folder\r\n",
      "json_to_csv.ipynb\t\t\t  pac3_folder_small\r\n",
      "labels\t\t\t\t\t  pac3_folder_small_half\r\n",
      "load_csv_remove_skipped_files_test.ipynb  pac3_labels\r\n",
      "pac2.mp4\t\t\t\t  remove_every_other_frame_shot.ipynb\r\n",
      "pac2.tar\t\t\t\t  rename_files.ipynb\r\n",
      "pac2_folder\t\t\t\t  split_video.ipynb\r\n",
      "pac2_folder_small\t\t\t  vertical\r\n"
     ]
    }
   ],
   "source": [
    "!ls"
   ]
  },
  {
   "cell_type": "code",
   "execution_count": 111,
   "metadata": {},
   "outputs": [],
   "source": [
    "labels_df.to_csv(\"train_valid/train_labels.csv\", index=None)"
   ]
  },
  {
   "cell_type": "markdown",
   "metadata": {},
   "source": [
    "# Valid CSV"
   ]
  },
  {
   "cell_type": "code",
   "execution_count": 113,
   "metadata": {},
   "outputs": [
    {
     "name": "stdout",
     "output_type": "stream",
     "text": [
      "61\n",
      "['pac3_10443.jpg.json', 'pac3_10445.jpg.json', 'pac3_10447.jpg.json', 'pac3_10449.jpg.json', 'pac3_10462.jpg.json', 'pac3_10464.jpg.json', 'pac3_10466.jpg.json', 'pac3_10468.jpg.json', 'pac3_10470.jpg.json', 'pac3_10472.jpg.json', 'pac3_10474.jpg.json', 'pac3_10476.jpg.json', 'pac3_10488.jpg.json', 'pac3_10491.jpg.json', 'pac3_10493.jpg.json', 'pac3_10495.jpg.json', 'pac3_10784.jpg.json', 'pac3_10786.jpg.json', 'pac3_10788.jpg.json', 'pac3_10801.jpg.json', 'pac3_10803.jpg.json', 'pac3_10805.jpg.json', 'pac3_10807.jpg.json', 'pac3_10809.jpg.json', 'pac3_10811.jpg.json', 'pac3_10813.jpg.json', 'pac3_10815.jpg.json', 'pac3_10817.jpg.json', 'pac3_10819.jpg.json', 'pac3_10821.jpg.json', 'pac3_10823.jpg.json', 'pac3_10825.jpg.json', 'pac3_10827.jpg.json', 'pac3_10841.jpg.json', 'pac3_10843.jpg.json', 'pac3_10845.jpg.json', 'pac3_10847.jpg.json', 'pac3_10849.jpg.json', 'pac3_11065.jpg.json', 'pac3_11067.jpg.json', 'pac3_11069.jpg.json', 'pac3_11071.jpg.json', 'pac3_11084.jpg.json', 'pac3_11086.jpg.json', 'pac3_11088.jpg.json', 'pac3_11090.jpg.json', 'pac3_11092.jpg.json', 'pac3_11094.jpg.json', 'pac3_11096.jpg.json', 'pac3_11098.jpg.json', 'pac3_11100.jpg.json', 'pac3_11107.jpg.json', 'pac3_11109.jpg.json', 'pac3_11111.jpg.json', 'pac3_11113.jpg.json', 'pac3_11115.jpg.json', 'pac3_11276.jpg.json', 'pac3_11278.jpg.json', 'pac3_11280.jpg.json', 'pac3_11282.jpg.json', 'pac3_11284.jpg.json']\n"
     ]
    }
   ],
   "source": [
    "train_path = \"train_valid/valid_labels\"\n",
    "train_list = os.listdir(train_path)\n",
    "print(len(train_list))\n",
    "print(train_list)"
   ]
  },
  {
   "cell_type": "code",
   "execution_count": 114,
   "metadata": {},
   "outputs": [
    {
     "name": "stdout",
     "output_type": "stream",
     "text": [
      "61\n",
      "61\n",
      "61\n",
      "61\n",
      "61\n",
      "61\n",
      "61\n",
      "61\n"
     ]
    }
   ],
   "source": [
    "file_name_list = []\n",
    "width_list = []\n",
    "height_list = []\n",
    "class_list = []\n",
    "xmin_list = []\n",
    "ymin_list = []\n",
    "xmax_list = []\n",
    "ymax_list = []\n",
    "\n",
    "for name in train_list:\n",
    "#     print(key)\n",
    "    file_path = os.path.join(train_path, name)\n",
    "    file = open(file_path, 'r')\n",
    "    file_data = json.load(file)\n",
    "#     print(file_data)\n",
    "    img_name = os.path.splitext(name)[0]\n",
    "#     print(img_name)\n",
    "    file_name_list.append(img_name)\n",
    "    for key in file_data.values():\n",
    "        if isinstance(key, dict):\n",
    "#             print(key)\n",
    "            width_list.append(key['width'])\n",
    "            height_list.append(key['height'])\n",
    "#         key_path = os.path.join(dir_path, key)\n",
    "        elif len(key) != 0:\n",
    "            if len(key) > 1:\n",
    "                print(\"Greater than 1 {}\".format(name))\n",
    "                print(key)\n",
    "            dict_obj = key[0]\n",
    "            class_name = dict_obj['classTitle']\n",
    "            class_list.append(class_name)\n",
    "            \n",
    "            box_dict = dict_obj['points']\n",
    "            box_list = box_dict['exterior']\n",
    "#             print(box_list)\n",
    "#             if box_list == []:\n",
    "# #                 print(key)\n",
    "#                 print(\"name: {}\".format(name))\n",
    "            x1, y1 = box_list[0]\n",
    "            x2, y2 = box_list[1]\n",
    "            xmin_list.append(x1)\n",
    "            ymin_list.append(y1)\n",
    "            xmax_list.append(x2)\n",
    "            ymax_list.append(y2)\n",
    "\n",
    "print(len(file_name_list))\n",
    "print(len(width_list))\n",
    "print(len(height_list))\n",
    "print(len(class_list))\n",
    "print(len(xmin_list))\n",
    "print(len(ymin_list))\n",
    "print(len(xmax_list))\n",
    "print(len(ymax_list))"
   ]
  },
  {
   "cell_type": "code",
   "execution_count": 115,
   "metadata": {},
   "outputs": [],
   "source": [
    "data_labels = {'filename': file_name_list, 'width': width_list, 'height': height_list, \n",
    "        'class': class_list, 'xmin': xmin_list, 'ymin': ymin_list, 'xmax':xmax_list, 'ymax':ymax_list}"
   ]
  },
  {
   "cell_type": "code",
   "execution_count": 116,
   "metadata": {},
   "outputs": [
    {
     "data": {
      "text/html": [
       "<div>\n",
       "<style scoped>\n",
       "    .dataframe tbody tr th:only-of-type {\n",
       "        vertical-align: middle;\n",
       "    }\n",
       "\n",
       "    .dataframe tbody tr th {\n",
       "        vertical-align: top;\n",
       "    }\n",
       "\n",
       "    .dataframe thead th {\n",
       "        text-align: right;\n",
       "    }\n",
       "</style>\n",
       "<table border=\"1\" class=\"dataframe\">\n",
       "  <thead>\n",
       "    <tr style=\"text-align: right;\">\n",
       "      <th></th>\n",
       "      <th>filename</th>\n",
       "      <th>width</th>\n",
       "      <th>height</th>\n",
       "      <th>class</th>\n",
       "      <th>xmin</th>\n",
       "      <th>ymin</th>\n",
       "      <th>xmax</th>\n",
       "      <th>ymax</th>\n",
       "    </tr>\n",
       "  </thead>\n",
       "  <tbody>\n",
       "    <tr>\n",
       "      <th>0</th>\n",
       "      <td>pac3_10443.jpg</td>\n",
       "      <td>1920</td>\n",
       "      <td>1080</td>\n",
       "      <td>shot</td>\n",
       "      <td>936</td>\n",
       "      <td>726</td>\n",
       "      <td>998</td>\n",
       "      <td>920</td>\n",
       "    </tr>\n",
       "    <tr>\n",
       "      <th>1</th>\n",
       "      <td>pac3_10445.jpg</td>\n",
       "      <td>1920</td>\n",
       "      <td>1080</td>\n",
       "      <td>shot</td>\n",
       "      <td>938</td>\n",
       "      <td>709</td>\n",
       "      <td>1000</td>\n",
       "      <td>917</td>\n",
       "    </tr>\n",
       "    <tr>\n",
       "      <th>2</th>\n",
       "      <td>pac3_10447.jpg</td>\n",
       "      <td>1920</td>\n",
       "      <td>1080</td>\n",
       "      <td>shot</td>\n",
       "      <td>942</td>\n",
       "      <td>674</td>\n",
       "      <td>998</td>\n",
       "      <td>912</td>\n",
       "    </tr>\n",
       "    <tr>\n",
       "      <th>3</th>\n",
       "      <td>pac3_10449.jpg</td>\n",
       "      <td>1920</td>\n",
       "      <td>1080</td>\n",
       "      <td>shot</td>\n",
       "      <td>944</td>\n",
       "      <td>631</td>\n",
       "      <td>993</td>\n",
       "      <td>908</td>\n",
       "    </tr>\n",
       "    <tr>\n",
       "      <th>4</th>\n",
       "      <td>pac3_10462.jpg</td>\n",
       "      <td>1920</td>\n",
       "      <td>1080</td>\n",
       "      <td>mid_shot</td>\n",
       "      <td>922</td>\n",
       "      <td>209</td>\n",
       "      <td>1035</td>\n",
       "      <td>399</td>\n",
       "    </tr>\n",
       "    <tr>\n",
       "      <th>...</th>\n",
       "      <td>...</td>\n",
       "      <td>...</td>\n",
       "      <td>...</td>\n",
       "      <td>...</td>\n",
       "      <td>...</td>\n",
       "      <td>...</td>\n",
       "      <td>...</td>\n",
       "      <td>...</td>\n",
       "    </tr>\n",
       "    <tr>\n",
       "      <th>56</th>\n",
       "      <td>pac3_11276.jpg</td>\n",
       "      <td>1920</td>\n",
       "      <td>1080</td>\n",
       "      <td>mid_shot</td>\n",
       "      <td>849</td>\n",
       "      <td>207</td>\n",
       "      <td>1034</td>\n",
       "      <td>326</td>\n",
       "    </tr>\n",
       "    <tr>\n",
       "      <th>57</th>\n",
       "      <td>pac3_11278.jpg</td>\n",
       "      <td>1920</td>\n",
       "      <td>1080</td>\n",
       "      <td>mid_shot</td>\n",
       "      <td>880</td>\n",
       "      <td>208</td>\n",
       "      <td>1034</td>\n",
       "      <td>326</td>\n",
       "    </tr>\n",
       "    <tr>\n",
       "      <th>58</th>\n",
       "      <td>pac3_11280.jpg</td>\n",
       "      <td>1920</td>\n",
       "      <td>1080</td>\n",
       "      <td>miss</td>\n",
       "      <td>919</td>\n",
       "      <td>209</td>\n",
       "      <td>1035</td>\n",
       "      <td>324</td>\n",
       "    </tr>\n",
       "    <tr>\n",
       "      <th>59</th>\n",
       "      <td>pac3_11282.jpg</td>\n",
       "      <td>1920</td>\n",
       "      <td>1080</td>\n",
       "      <td>miss</td>\n",
       "      <td>924</td>\n",
       "      <td>210</td>\n",
       "      <td>1036</td>\n",
       "      <td>363</td>\n",
       "    </tr>\n",
       "    <tr>\n",
       "      <th>60</th>\n",
       "      <td>pac3_11284.jpg</td>\n",
       "      <td>1920</td>\n",
       "      <td>1080</td>\n",
       "      <td>miss</td>\n",
       "      <td>925</td>\n",
       "      <td>208</td>\n",
       "      <td>1037</td>\n",
       "      <td>430</td>\n",
       "    </tr>\n",
       "  </tbody>\n",
       "</table>\n",
       "<p>61 rows × 8 columns</p>\n",
       "</div>"
      ],
      "text/plain": [
       "          filename  width  height     class  xmin  ymin  xmax  ymax\n",
       "0   pac3_10443.jpg   1920    1080      shot   936   726   998   920\n",
       "1   pac3_10445.jpg   1920    1080      shot   938   709  1000   917\n",
       "2   pac3_10447.jpg   1920    1080      shot   942   674   998   912\n",
       "3   pac3_10449.jpg   1920    1080      shot   944   631   993   908\n",
       "4   pac3_10462.jpg   1920    1080  mid_shot   922   209  1035   399\n",
       "..             ...    ...     ...       ...   ...   ...   ...   ...\n",
       "56  pac3_11276.jpg   1920    1080  mid_shot   849   207  1034   326\n",
       "57  pac3_11278.jpg   1920    1080  mid_shot   880   208  1034   326\n",
       "58  pac3_11280.jpg   1920    1080      miss   919   209  1035   324\n",
       "59  pac3_11282.jpg   1920    1080      miss   924   210  1036   363\n",
       "60  pac3_11284.jpg   1920    1080      miss   925   208  1037   430\n",
       "\n",
       "[61 rows x 8 columns]"
      ]
     },
     "execution_count": 116,
     "metadata": {},
     "output_type": "execute_result"
    }
   ],
   "source": [
    "labels_df = pd.DataFrame(data = data_labels)\n",
    "labels_df"
   ]
  },
  {
   "cell_type": "code",
   "execution_count": 117,
   "metadata": {},
   "outputs": [
    {
     "data": {
      "text/plain": [
       "False"
      ]
     },
     "execution_count": 117,
     "metadata": {},
     "output_type": "execute_result"
    }
   ],
   "source": [
    "labels_df.isnull().values.any()"
   ]
  },
  {
   "cell_type": "code",
   "execution_count": 118,
   "metadata": {},
   "outputs": [],
   "source": [
    "labels_df.to_csv(\"train_valid/valid_labels.csv\", index=None)"
   ]
  },
  {
   "cell_type": "code",
   "execution_count": null,
   "metadata": {},
   "outputs": [],
   "source": []
  }
 ],
 "metadata": {
  "kernelspec": {
   "display_name": "Python 3.7.5 64-bit ('tensorflow': conda)",
   "language": "python",
   "name": "python37564bittensorflowconda8f40c7a31ebf4d76845d6a2d7cfcd750"
  },
  "language_info": {
   "codemirror_mode": {
    "name": "ipython",
    "version": 3
   },
   "file_extension": ".py",
   "mimetype": "text/x-python",
   "name": "python",
   "nbconvert_exporter": "python",
   "pygments_lexer": "ipython3",
   "version": "3.7.5-final"
  }
 },
 "nbformat": 4,
 "nbformat_minor": 2
}