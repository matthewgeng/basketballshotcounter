{
 "cells": [
  {
   "cell_type": "code",
   "execution_count": 1,
   "metadata": {},
   "outputs": [],
   "source": [
    "from PIL import Image\n",
    "import os, sys"
   ]
  },
  {
   "cell_type": "code",
   "execution_count": 2,
   "metadata": {},
   "outputs": [
    {
     "name": "stdout",
     "output_type": "stream",
     "text": [
      "all_good_images\t\t\t\t  pac2_labels\r\n",
      "augment.ipynb\t\t\t\t  pac3.mp4\r\n",
      "carsa.mp4\t\t\t\t  pac3.tar\r\n",
      "carsa_trim.mp4\t\t\t\t  pac3_folder\r\n",
      "carsa_trim_folder\t\t\t  pac3_folder_small\r\n",
      "csv_to_tfrecord.py\t\t\t  pac3_folder_small_half\r\n",
      "generate_tf_records.py\t\t\t  pac3_labels\r\n",
      "generate_tfrecord.py\t\t\t  remove_every_other_frame_shot.ipynb\r\n",
      "json_to_csv.ipynb\t\t\t  rename_files.ipynb\r\n",
      "labels\t\t\t\t\t  resize.ipynb\r\n",
      "load_csv_remove_skipped_files_test.ipynb  split_video.ipynb\r\n",
      "pac2.mp4\t\t\t\t  test.tfrecords\r\n",
      "pac2.tar\t\t\t\t  test_labels.csv\r\n",
      "pac2_csv_labels.csv\t\t\t  tf_records.ipynb\r\n",
      "pac2_folder\t\t\t\t  train_valid\r\n",
      "pac2_folder_small\t\t\t  vertical\r\n",
      "pac2_folder_small_half\r\n"
     ]
    }
   ],
   "source": [
    "!ls"
   ]
  },
  {
   "cell_type": "code",
   "execution_count": null,
   "metadata": {},
   "outputs": [],
   "source": []
  },
  {
   "cell_type": "code",
   "execution_count": 33,
   "metadata": {},
   "outputs": [],
   "source": [
    "path = \"carsa_trim_folder\"\n",
    "dirs = os.listdir( path )\n",
    "\n",
    "dirs.remove('carsa_trim_folder.zip')\n",
    "\n",
    "def resize():\n",
    "    for i, item in enumerate(dirs):\n",
    "        file_path = os.path.join(path, item)\n",
    "        if os.path.isfile(file_path):\n",
    "            if i >= 1928 and i <= 3881:\n",
    "                im = Image.open(file_path)\n",
    "                f, e = os.path.splitext(file_path)\n",
    "                imResize = im.resize((1067,600), Image.ANTIALIAS)\n",
    "                item_name = os.path.splitext(item)[0]\n",
    "                new_file_path = os.path.join(\"carsa_trim_folder/resized\", item_name)\n",
    "                \n",
    "                imResize.save(new_file_path + '_resized.jpg', 'JPEG', quality=90)\n",
    "\n",
    "def delete():\n",
    "    for i, item in enumerate(dirs):\n",
    "            file_path = os.path.join(path, item)\n",
    "            if os.path.isfile(file_path) and 'resize' in file_path:\n",
    "                os.remove(file_path)\n"
   ]
  },
  {
   "cell_type": "code",
   "execution_count": 26,
   "metadata": {},
   "outputs": [],
   "source": [
    "delete()"
   ]
  },
  {
   "cell_type": "code",
   "execution_count": 34,
   "metadata": {},
   "outputs": [],
   "source": [
    "resize()"
   ]
  },
  {
   "cell_type": "code",
   "execution_count": null,
   "metadata": {},
   "outputs": [],
   "source": []
  }
 ],
 "metadata": {
  "kernelspec": {
   "display_name": "Python [conda env:tensorflow]",
   "language": "python",
   "name": "conda-env-tensorflow-py"
  },
  "language_info": {
   "codemirror_mode": {
    "name": "ipython",
    "version": 3
   },
   "file_extension": ".py",
   "mimetype": "text/x-python",
   "name": "python",
   "nbconvert_exporter": "python",
   "pygments_lexer": "ipython3",
   "version": "3.7.5"
  }
 },
 "nbformat": 4,
 "nbformat_minor": 2
}
